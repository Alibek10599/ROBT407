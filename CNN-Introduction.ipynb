{
 "cells": [
  {
   "cell_type": "markdown",
   "metadata": {},
   "source": [
    "## Dependancies and supporting functions\n",
    "Loading dependancies and supporting functions by running the code block below."
   ]
  },
  {
   "cell_type": "code",
   "execution_count": 2,
   "metadata": {},
   "outputs": [
    {
     "name": "stdout",
     "output_type": "stream",
     "text": [
      "1.4.0\n"
     ]
    }
   ],
   "source": [
    "import torch\n",
    "print(torch.__version__)"
   ]
  },
  {
   "cell_type": "code",
   "execution_count": 7,
   "metadata": {},
   "outputs": [],
   "source": [
    "%matplotlib inline\n",
    "import matplotlib\n",
    "import numpy as np\n",
    "import matplotlib.pyplot as plt"
   ]
  },
  {
   "cell_type": "markdown",
   "metadata": {},
   "source": [
    "### Convolutional Neural networks 101\n",
    "\n",
    "Convolution neural networks are one of the most succesfull types of neural networks for image recognition and an integral part of reigniting the interest in neural networks. They are able to `extract structural relations in the data such as spatial in images or temporal in time series`.\n",
    "\n",
    "In this lecture we'll experiment with inserting 2D-convolution layers in the fully connected neural networks. We'll further experiment with stacking of `convolution layers`, `max pooling` and `strided convolutions` which are all important techniques in current convolution neural network architectures.\n",
    "\n",
    "Lastly we'll try to visualize the learned convolution filters and try to understand what kind of features they learn to recognize.\n",
    "If you haven't watched Jason Yosinski and colleague [awesome video on visualizing convolutional networks](https://www.youtube.com/watch?v=AgkfIQ4IGaM) you definitely should do so now.\n",
    "\n",
    "If you are unfamilar with the the convolution operation https://github.com/vdumoulin/conv_arithmetic have a nice visualization of different convolution variants. \n",
    "\n",
    "For a more indepth tutorial please see \n",
    "\n",
    "- http://cs231n.github.io/convolutional-networks/  \n",
    "- http://neuralnetworksanddeeplearning.com/chap6.html,  \n",
    "- http://d2l.ai/chapter_convolutional-neural-networks/index.html"
   ]
  },
  {
   "cell_type": "markdown",
   "metadata": {},
   "source": [
    "#### Reminder: What are convolutional networks?\n",
    "\n",
    "ConvNets are in many respects very similar to the dense feedforward networks we saw previously:\n",
    " * The network is still organized into layers\n",
    " * Each layer is parameterized by weights and biases\n",
    " * Each layer has an element-wise non-linear transformation (activation function)\n",
    " * There are no cycles in the connections (more on this in later labs)\n",
    "\n",
    "*So what is the difference?*\n",
    "The networks we saw previously are called *dense* because each unit receives input from all the units in the previous layer.\n",
    "This is not the case for ConvNets.\n",
    "In ConvNets each unit is only connected to a small subset of the input units.\n",
    "This is called the *receptive field* of the unit.\n",
    "\n",
    "#### Let us look at a quick example.\n",
    "The input (green matrix) is `1x5x5` dimensional tensor - i.e. it has one `channel` (like a grayscale image) and the map is of size `5x5`.\n",
    "Let us define a `1x3x3` kernel (yellow submatrix).\n",
    "The kernel weights are indicated by red in the bottom right of each elment.\n",
    "The computation can be thought of as first an elementwise multiplication, and then summing the results.\n",
    "Here we use a stride of 1, as shown in this animation:\n",
    "\n",
    "<img src=\"images/convolutions.gif\" style=\"width: 400px;\"/> \n",
    "[GIF courtesy of [Stanford](http://deeplearning.stanford.edu/wiki/index.php/Feature_extraction_using_convolution)]\n",
    "\n",
    "After having convolved the image we perform an elementwise non-linear transformation on the *convolved features*.\n",
    "In this example the input is a 2D *feature map* with depth 1."
   ]
  },
  {
   "cell_type": "markdown",
   "metadata": {},
   "source": [
    "<img src = 'https://www.dropbox.com/s/wpakft007rextc8/full_padding_no_strides_transposed.gif?dl=1' style=\"width: 200px;\"/>\n",
    "\n",
    "<img src = 'https://www.dropbox.com/s/5lt3dl148bftshg/padding_strides.gif?dl=1' style=\"width: 200px;\"/>"
   ]
  },
  {
   "cell_type": "markdown",
   "metadata": {},
   "source": [
    "## Assignment 1\n",
    "\n",
    "### Assignment 1.1: Manual calculations\n",
    "\n",
    "Perform the following computation, and write the result below.\n",
    "\n",
    "![](images/conv_exe.png)\n",
    "\n",
    "1. Manually convolve the input, and compute the convolved features. No padding and stride of 1.\n",
    "1. Perform `2x2` max pooling on the convolved features. Stride of 2.\n",
    "\n",
    "**Answer:**\n",
    "\n",
    "\n",
    "### Assignment 1.2: Output dimensionality\n",
    "\n",
    "Given the following 3D tensor input `(channel, height, width)` , a given amount (`channels_out`) of filters `(channels_in, filter_height, filter_width)`, stride `(height, width)` and padding `(height, width)`, calculate the output dimensionality if it's valid.\n",
    "\n",
    "1. input tensor with dimensionality (1, 28, 28) and 16 filters of size (1, 5, 5) with stride (1, 1) and padding (0, 0)\n",
    " * **Answer:**  \n",
    "2. input tensor with dimensionality (3, 32, 32) and 24 filters of size (2, 3, 3) with stride (1, 1) and padding (0, 0)\n",
    " * **Answer:** \n",
    "3. input tensor with dimensionality (10, 32, 32) and 3 filters of size (10, 2, 2) with stride (2, 2) and padding (0, 0)\n",
    " * **Answer:**  \n",
    "4. input tensor with dimensionality (11, 8, 16) and 7 filters of size (11, 3, 3) with stride (2, 2) and padding (1, 1)\n",
    " * **Answer:**  \n",
    "5. input tensor with dimensionality (128, 256, 256) and 112 filters of size (128, 3, 3) with stride (1, 1) and padding (1, 1)\n",
    " * **Answer:**  \n",
    " "
   ]
  },
  {
   "cell_type": "markdown",
   "metadata": {},
   "source": [
    "### Recap >>> Convolutional Networks\n",
    "<img src=\"https://www.dropbox.com/s/7sehh09tzq32xs8/Pooling_Simple_max.png?dl=1\">\n"
   ]
  },
  {
   "cell_type": "markdown",
   "metadata": {},
   "source": [
    "<img src = 'https://www.dropbox.com/s/bza4hvniibko2wl/conv_net.jpg?dl=1'>"
   ]
  },
  {
   "cell_type": "markdown",
   "metadata": {},
   "source": [
    "### Data: MNIST\n",
    "\n",
    "The code below downloads and loads the same MNIST dataset as before.\n",
    "Note however that the data has a different shape this time, namely `(num_samples, num_channels, height, width)`."
   ]
  },
  {
   "cell_type": "code",
   "execution_count": 4,
   "metadata": {},
   "outputs": [],
   "source": [
    "!pip install wget\n",
    "\n",
    "import wget\n",
    "wget.download('https://github.com/berdakh/ROBT407/blob/master/mnist.npz')"
   ]
  },
  {
   "cell_type": "code",
   "execution_count": 8,
   "metadata": {},
   "outputs": [],
   "source": [
    "data = np.load('mnist.npz')"
   ]
  },
  {
   "cell_type": "code",
   "execution_count": 9,
   "metadata": {},
   "outputs": [
    {
     "name": "stdout",
     "output_type": "stream",
     "text": [
      "Information on dataset\n",
      "x_train (10000, 1, 28, 28)\n",
      "targets_train (10000,)\n",
      "x_valid (500, 1, 28, 28)\n",
      "targets_valid (500,)\n",
      "x_test (500, 1, 28, 28)\n",
      "targets_test (500,)\n"
     ]
    }
   ],
   "source": [
    "## LOAD the mnist data\n",
    "# To speed up training we'll only work on a subset of the data.\n",
    "# Note that we reshape the data from \n",
    "#  (nsamples, num_features) = (nsamples, nchannels*rows*cols)\n",
    "#    -> (nsamples, nchannels, rows, cols)\n",
    "# in order to retain the spatial arrangements of the pixels\n",
    "num_classes = 10\n",
    "\n",
    "# define the number of (image) channels and rows, cols\n",
    "nchannels, rows, cols = 1, 28, 28\n",
    "\n",
    "#get the xtraining dataset \n",
    "x_train = data['X_train'][:10000].astype('float32')\n",
    "x_train = x_train.reshape((-1, nchannels, rows, cols))\n",
    "targets_train = data['y_train'][:10000].astype('int32')\n",
    "\n",
    "# validation \n",
    "x_valid = data['X_valid'][:500].astype('float32')\n",
    "x_valid = x_valid.reshape((-1, nchannels, rows, cols))\n",
    "targets_valid = data['y_valid'][:500].astype('int32')\n",
    "\n",
    "# test \n",
    "x_test = data['X_test'][:500].astype('float32')\n",
    "x_test = x_test.reshape((-1, nchannels, rows, cols))\n",
    "targets_test = data['y_test'][:500].astype('int32')\n",
    "\n",
    "print(\"Information on dataset\")\n",
    "print(\"x_train\", x_train.shape)\n",
    "\n",
    "print(\"targets_train\", targets_train.shape)\n",
    "print(\"x_valid\", x_valid.shape)\n",
    "\n",
    "print(\"targets_valid\", targets_valid.shape)\n",
    "print(\"x_test\", x_test.shape)\n",
    "\n",
    "print(\"targets_test\", targets_test.shape)"
   ]
  },
  {
   "cell_type": "code",
   "execution_count": 10,
   "metadata": {},
   "outputs": [
    {
     "data": {
      "image/png": "[encoded data removed]",
      "text/plain": [
       "<Figure size 432x432 with 1 Axes>"
      ]
     },
     "metadata": {
      "needs_background": "light"
     },
     "output_type": "display_data"
    }
   ],
   "source": [
    "import matplotlib.pyplot as plt\n",
    "\n",
    "#plot a few MNIST examples\n",
    "idx, dim, classes = 0, 28, 10\n",
    "\n",
    "# create empty canvas\n",
    "canvas = np.zeros((dim*classes, classes*dim))\n",
    "\n",
    "# fill with tensors\n",
    "for i in range(classes):\n",
    "    for j in range(classes):\n",
    "        canvas[i*dim:(i+1)*dim, j*dim:(j+1)*dim] = x_train[idx].reshape((dim, dim))\n",
    "        idx += 1\n",
    "        \n",
    "# visualize matrix of tensors as gray scale image\n",
    "plt.figure(figsize=(6, 6))\n",
    "plt.axis('off')\n",
    "plt.imshow(canvas, cmap='gray')\n",
    "plt.title('MNIST handwritten digits')\n",
    "plt.show()"
   ]
  },
  {
   "cell_type": "markdown",
   "metadata": {},
   "source": [
    "## Define a simple feed forward neural network"
   ]
  },
  {
   "cell_type": "code",
   "execution_count": 2,
   "metadata": {},
   "outputs": [],
   "source": [
    "import torch \n",
    "from torch.autograd import Variable\n",
    "from torch.nn.parameter import Parameter\n",
    "\n",
    "import torch.nn as nn\n",
    "import torch.nn.functional as F\n",
    "\n",
    "import torch.optim as optim\n",
    "import torch.nn.init as init"
   ]
  },
  {
   "cell_type": "code",
   "execution_count": 3,
   "metadata": {},
   "outputs": [
    {
     "name": "stdout",
     "output_type": "stream",
     "text": [
      "Your GPU device name : GeForce GTX 1050 Ti\n"
     ]
    }
   ],
   "source": [
    "dev = torch.device(\"cuda\" if torch.cuda.is_available() else \"cpu\")\n",
    "\n",
    "if dev.type == 'cuda':\n",
    "   print('Your GPU device name :', torch.cuda.get_device_name())        \n",
    "else:\n",
    "   print('No GPU Available :', dev)"
   ]
  },
  {
   "cell_type": "code",
   "execution_count": 4,
   "metadata": {},
   "outputs": [
    {
     "data": {
      "text/plain": [
       "\u001b[0;31mInit signature:\u001b[0m \u001b[0mtorch\u001b[0m\u001b[0;34m.\u001b[0m\u001b[0mnn\u001b[0m\u001b[0;34m.\u001b[0m\u001b[0mModule\u001b[0m\u001b[0;34m(\u001b[0m\u001b[0;34m)\u001b[0m\u001b[0;34m\u001b[0m\u001b[0;34m\u001b[0m\u001b[0m\n",
       "\u001b[0;31mDocstring:\u001b[0m     \n",
       "Base class for all neural network modules.\n",
       "\n",
       "Your models should also subclass this class.\n",
       "\n",
       "Modules can also contain other Modules, allowing to nest them in\n",
       "a tree structure. You can assign the submodules as regular attributes::\n",
       "\n",
       "    import torch.nn as nn\n",
       "    import torch.nn.functional as F\n",
       "\n",
       "    class Model(nn.Module):\n",
       "        def __init__(self):\n",
       "            super(Model, self).__init__()\n",
       "            self.conv1 = nn.Conv2d(1, 20, 5)\n",
       "            self.conv2 = nn.Conv2d(20, 20, 5)\n",
       "\n",
       "        def forward(self, x):\n",
       "            x = F.relu(self.conv1(x))\n",
       "            return F.relu(self.conv2(x))\n",
       "\n",
       "Submodules assigned in this way will be registered, and will have their\n",
       "parameters converted too when you call :meth:`to`, etc.\n",
       "\u001b[0;31mInit docstring:\u001b[0m Initializes internal Module state, shared by both nn.Module and ScriptModule.\n",
       "\u001b[0;31mFile:\u001b[0m           ~/anaconda3/envs/mne/lib/python3.7/site-packages/torch/nn/modules/module.py\n",
       "\u001b[0;31mType:\u001b[0m           type\n",
       "\u001b[0;31mSubclasses:\u001b[0m     Identity, Linear, Bilinear, _ConvNd, Threshold, ReLU, RReLU, Hardtanh, Sigmoid, Tanh, ...\n"
      ]
     },
     "metadata": {},
     "output_type": "display_data"
    }
   ],
   "source": [
    "torch.nn.Module?"
   ]
  },
  {
   "cell_type": "code",
   "execution_count": 5,
   "metadata": {},
   "outputs": [],
   "source": [
    "# note that when you import from torch.nn you don't have to define and initialize\n",
    "# the W1, b1, W2, b2, ..., Wn, bn weights \n",
    "from torch.nn import Linear, Conv2d, BatchNorm2d, MaxPool2d, Dropout2d\n",
    "from torch.nn.functional import relu, elu, relu6, sigmoid, tanh, softmax"
   ]
  },
  {
   "cell_type": "code",
   "execution_count": 11,
   "metadata": {},
   "outputs": [
    {
     "name": "stdout",
     "output_type": "stream",
     "text": [
      "(10000, 1, 28, 28)\n",
      "1 28 28\n"
     ]
    }
   ],
   "source": [
    "# hyperameters of the model\n",
    "num_classes = 10\n",
    "\n",
    "# channels here represent the depth of image (grayscale image)\n",
    "channels = x_train.shape[1]\n",
    "height   = x_train.shape[2]\n",
    "width    = x_train.shape[3]\n",
    "\n",
    "print(x_train.shape)\n",
    "print(channels, height, width)"
   ]
  },
  {
   "cell_type": "code",
   "execution_count": 12,
   "metadata": {},
   "outputs": [],
   "source": [
    "num_filters_conv1 = 16\n",
    "\n",
    "kernel_size_conv1 = 5 # [height, width]\n",
    "stride_conv1 = 1 # [stride_height, stride_width]\n",
    "\n",
    "num_l1 = 100\n",
    "padding_conv1 = 0\n",
    "   \n",
    "def compute_conv_dim(dim_size):\n",
    "    return int((dim_size - kernel_size_conv1 + 2 * padding_conv1) / stride_conv1 + 1)"
   ]
  },
  {
   "cell_type": "code",
   "execution_count": 13,
   "metadata": {},
   "outputs": [],
   "source": [
    "class Net(nn.Module):\n",
    "    def __init__(self):\n",
    "        super(Net, self).__init__()  \n",
    "        \n",
    "        self.l1_in_features = channels * height * width # \n",
    "        \n",
    "        self.l_1 = Linear(in_features=self.l1_in_features,\n",
    "                          out_features = num_l1, bias = True)        \n",
    "        \n",
    "        self.l_out = Linear(in_features = num_l1, \n",
    "                            out_features =num_classes, bias = False)           \n",
    "        \n",
    "    def forward(self, x): \n",
    "        # x.reshape(-1, 784)\n",
    "        x = x.view(-1, self.l1_in_features)   \n",
    "        x = self.l_1(x)\n",
    "        x = relu(x)        \n",
    "        x = self.l_out(x)\n",
    "        x = softmax(x, dim=1)           \n",
    "        return x"
   ]
  },
  {
   "cell_type": "code",
   "execution_count": 14,
   "metadata": {},
   "outputs": [
    {
     "name": "stdout",
     "output_type": "stream",
     "text": [
      "Net(\n",
      "  (l_1): Linear(in_features=784, out_features=100, bias=True)\n",
      "  (l_out): Linear(in_features=100, out_features=10, bias=False)\n",
      ")\n"
     ]
    }
   ],
   "source": [
    "net = Net()\n",
    "print(net)"
   ]
  },
  {
   "cell_type": "code",
   "execution_count": 26,
   "metadata": {},
   "outputs": [],
   "source": [
    "criterion = nn.CrossEntropyLoss()\n",
    "optimizer = optim.Adam(net.parameters(), lr=0.001)"
   ]
  },
  {
   "cell_type": "code",
   "execution_count": 16,
   "metadata": {},
   "outputs": [
    {
     "name": "stdout",
     "output_type": "stream",
     "text": [
      "(5, 1, 28, 28)\n"
     ]
    }
   ],
   "source": [
    "#Test the forward pass with dummy data\n",
    "# five examples with a single channel (grayscale) of size 28 x 28 \n",
    "x = np.random.normal(0,1, (5, 1, 28, 28)).astype('float32')\n",
    "print(x.shape)"
   ]
  },
  {
   "cell_type": "code",
   "execution_count": 17,
   "metadata": {},
   "outputs": [
    {
     "name": "stdout",
     "output_type": "stream",
     "text": [
      "torch.Size([5, 10])\n",
      "tensor([[0.0672, 0.1041, 0.1267, 0.1098, 0.0900, 0.1208, 0.1033, 0.0821, 0.0964,\n",
      "         0.0997],\n",
      "        [0.0982, 0.0981, 0.1828, 0.1330, 0.0927, 0.0855, 0.0766, 0.0791, 0.0740,\n",
      "         0.0800],\n",
      "        [0.1059, 0.1103, 0.0854, 0.1132, 0.1015, 0.1764, 0.0938, 0.0621, 0.0643,\n",
      "         0.0872],\n",
      "        [0.0623, 0.1072, 0.1595, 0.0853, 0.1078, 0.1070, 0.0870, 0.0782, 0.0974,\n",
      "         0.1081],\n",
      "        [0.1154, 0.1256, 0.0992, 0.0990, 0.1024, 0.1247, 0.0898, 0.0793, 0.0583,\n",
      "         0.1064]], grad_fn=<SoftmaxBackward>)\n"
     ]
    }
   ],
   "source": [
    "# forward pass through the network \n",
    "out = net(Variable(torch.from_numpy(x)))\n",
    "print(out.size())\n",
    "print(out)"
   ]
  },
  {
   "cell_type": "markdown",
   "metadata": {},
   "source": [
    "Notice how the output's probabilities are nicely distributed.\n",
    "The built-in nn functions (layers) alreay have a sane initialization of the weights."
   ]
  },
  {
   "cell_type": "code",
   "execution_count": 28,
   "metadata": {},
   "outputs": [
    {
     "name": "stdout",
     "output_type": "stream",
     "text": [
      "Number of training sample at each batch >>> 100\n"
     ]
    }
   ],
   "source": [
    "# we could have done this ourselves, but we should be aware of sklearn and it's tools\n",
    "from sklearn.metrics import accuracy_score\n",
    "\n",
    "batch_size = 100\n",
    "num_epochs = 50\n",
    "\n",
    "num_samples_train = x_train.shape[0]\n",
    "num_batches_train = num_samples_train // batch_size\n",
    "\n",
    "num_samples_valid = x_valid.shape[0]\n",
    "num_batches_valid = num_samples_valid // batch_size\n",
    "print('Number of training sample at each batch >>>', num_batches_train)"
   ]
  },
  {
   "cell_type": "code",
   "execution_count": 31,
   "metadata": {},
   "outputs": [],
   "source": [
    "def train(net, optimizer, num_epochs): \n",
    "    \n",
    "    train_acc, train_loss = [], []\n",
    "    valid_acc, valid_loss = [], []\n",
    "    test_acc, test_loss = [], []\n",
    "    cur_loss = 0\n",
    "    losses = []    \n",
    "    # at each batch get appropiate slice of the x_train data \n",
    "    get_slice = lambda i, size: range(i * size, (i + 1) * size)\n",
    "\n",
    "    for epoch in range(num_epochs):\n",
    "        # Forward -> Backprob -> Update params\n",
    "        ## Train\n",
    "        cur_loss = 0\n",
    "\n",
    "        # set the module in training mode\n",
    "        net.train()        \n",
    "        #*****************************************************\n",
    "        for i in range(num_batches_train):\n",
    "            slce = get_slice(i, batch_size)\n",
    "            x_batch = Variable(torch.from_numpy(x_train[slce]))\n",
    "            \n",
    "            # forward pass \n",
    "            output = net(x_batch)\n",
    "           \n",
    "            # compute gradients given loss\n",
    "            target_batch = Variable(torch.from_numpy(targets_train[slce]).long())\n",
    "            batch_loss = criterion(output, target_batch)\n",
    "            \n",
    "            # zero gradient + backpropogate \n",
    "            optimizer.zero_grad()\n",
    "            batch_loss.backward()\n",
    "            \n",
    "            # update the gradient \n",
    "            optimizer.step()\n",
    "            \n",
    "            # update current loss \n",
    "            cur_loss += batch_loss  \n",
    "            \n",
    "        losses.append(cur_loss / batch_size)    \n",
    "        \n",
    "        # set the module in evaluation mode \n",
    "        net.eval()\n",
    "        train_preds, train_targs = [], []\n",
    "        #*****************************************************\n",
    "        for i in range(num_batches_train):\n",
    "            slce = get_slice(i, batch_size)\n",
    "            x_batch = Variable(torch.from_numpy(x_train[slce]))\n",
    "            \n",
    "            # forward pass using the updated NN model \n",
    "            output = net(x_batch)\n",
    "            preds = torch.max(output, 1)[1]\n",
    "           \n",
    "            # collect train targets \n",
    "            # collect train predicts \n",
    "            train_targs += list(targets_train[slce])\n",
    "            train_preds += list(preds.data.numpy())\n",
    "        \n",
    "        ### Evaluate validation\n",
    "        #*****************************************************\n",
    "        val_preds, val_targs = [], []    \n",
    "        for i in range(num_batches_valid):\n",
    "            slce = get_slice(i, batch_size)\n",
    "            x_batch = Variable(torch.from_numpy(x_valid[slce]))\n",
    "            # forward pass validation dataset using the optimal model\n",
    "            # (no update applied)\n",
    "            output = net(x_batch)\n",
    "            preds = torch.max(output, 1)[1]            \n",
    "            val_preds += list(preds.data.numpy())\n",
    "            val_targs += list(targets_valid[slce])\n",
    "        train_acc_cur = accuracy_score(train_targs, train_preds)\n",
    "        valid_acc_cur = accuracy_score(val_targs, val_preds)\n",
    "\n",
    "        train_acc.append(train_acc_cur)\n",
    "        valid_acc.append(valid_acc_cur)\n",
    "        if epoch % 10 == 0:\n",
    "            print(\"Epoch %2i : Train Loss %f , Train acc %f, Valid acc %f\" % (\n",
    "                    epoch+1, losses[-1], train_acc_cur, valid_acc_cur))\n",
    "            \n",
    "    epoch = np.arange(len(train_acc))\n",
    "    plt.figure()\n",
    "    plt.plot(epoch, train_acc, 'r', epoch, valid_acc, 'b')\n",
    "    plt.legend(['Train Acc', 'Val Acc'])\n",
    "    plt.xlabel('Epochs')\n",
    "    plt.ylabel('Acc')\n",
    "    ### Evaluate test set\n",
    "    x_batch = Variable(torch.from_numpy(x_test))\n",
    "    output = net(x_batch)\n",
    "    preds = torch.max(output, 1)[1]\n",
    "    print(\"\\nTest set Acc:  %f\" % (accuracy_score(list(targets_test), \n",
    "                                                  list(preds.data.numpy()))))"
   ]
  },
  {
   "cell_type": "code",
   "execution_count": 32,
   "metadata": {},
   "outputs": [
    {
     "ename": "TypeError",
     "evalue": "can't convert CUDA tensor to numpy. Use Tensor.cpu() to copy the tensor to host memory first.",
     "output_type": "error",
     "traceback": [
      "\u001b[0;31m---------------------------------------------------------------------------\u001b[0m",
      "\u001b[0;31mTypeError\u001b[0m                                 Traceback (most recent call last)",
      "\u001b[0;32m<ipython-input-32-9fe01ff17e32>\u001b[0m in \u001b[0;36m<module>\u001b[0;34m\u001b[0m\n\u001b[0;32m----> 1\u001b[0;31m \u001b[0mtrain\u001b[0m\u001b[0;34m(\u001b[0m\u001b[0mnet\u001b[0m\u001b[0;34m,\u001b[0m \u001b[0moptimizer\u001b[0m\u001b[0;34m,\u001b[0m \u001b[0mnum_epochs\u001b[0m\u001b[0;34m=\u001b[0m\u001b[0;36m100\u001b[0m\u001b[0;34m)\u001b[0m\u001b[0;34m\u001b[0m\u001b[0;34m\u001b[0m\u001b[0m\n\u001b[0m",
      "\u001b[0;32m<ipython-input-31-3c9273a4d833>\u001b[0m in \u001b[0;36mtrain\u001b[0;34m(net, optimizer, num_epochs)\u001b[0m\n\u001b[1;32m     55\u001b[0m             \u001b[0;31m# collect train predicts\u001b[0m\u001b[0;34m\u001b[0m\u001b[0;34m\u001b[0m\u001b[0;34m\u001b[0m\u001b[0m\n\u001b[1;32m     56\u001b[0m             \u001b[0mtrain_targs\u001b[0m \u001b[0;34m+=\u001b[0m \u001b[0mlist\u001b[0m\u001b[0;34m(\u001b[0m\u001b[0mtargets_train\u001b[0m\u001b[0;34m[\u001b[0m\u001b[0mslce\u001b[0m\u001b[0;34m]\u001b[0m\u001b[0;34m)\u001b[0m\u001b[0;34m\u001b[0m\u001b[0;34m\u001b[0m\u001b[0m\n\u001b[0;32m---> 57\u001b[0;31m             \u001b[0mtrain_preds\u001b[0m \u001b[0;34m+=\u001b[0m \u001b[0mlist\u001b[0m\u001b[0;34m(\u001b[0m\u001b[0mpreds\u001b[0m\u001b[0;34m.\u001b[0m\u001b[0mdata\u001b[0m\u001b[0;34m.\u001b[0m\u001b[0mnumpy\u001b[0m\u001b[0;34m(\u001b[0m\u001b[0;34m)\u001b[0m\u001b[0;34m)\u001b[0m\u001b[0;34m\u001b[0m\u001b[0;34m\u001b[0m\u001b[0m\n\u001b[0m\u001b[1;32m     58\u001b[0m \u001b[0;34m\u001b[0m\u001b[0m\n\u001b[1;32m     59\u001b[0m         \u001b[0;31m### Evaluate validation\u001b[0m\u001b[0;34m\u001b[0m\u001b[0;34m\u001b[0m\u001b[0;34m\u001b[0m\u001b[0m\n",
      "\u001b[0;31mTypeError\u001b[0m: can't convert CUDA tensor to numpy. Use Tensor.cpu() to copy the tensor to host memory first."
     ]
    }
   ],
   "source": [
    "train(net, optimizer, num_epochs=100)"
   ]
  },
  {
   "cell_type": "markdown",
   "metadata": {},
   "source": [
    "## Assignment 2\n",
    "\n",
    "1. Note the performance of the standard feedforward neural network. Add a 2D convolution layer before the dense hidden layer and confirm that it increases the generalization performance of the network (try num_filters=16 and filter_size=5 as a starting point). \n",
    " \n",
    "2. Notice that the size of the image reduces. This can cause loss of information in convolutional networks that apply many convolutional layers. To avoid such add adequate padding to the convolutional layer.\n",
    " \n",
    "3. Can the performance be increases even further by stacking more convolution layers ?\n",
    " \n",
    "4. Maxpooling is a technique for decreasing the spatial resolution of an image while retaining the important features. Effectively this gives a local translational invariance and reduces the computation by a factor of four. In the classification algorithm which is usually desirable. Try to either: \n",
    " \n",
    "   - add a maxpool layer (add arguement kernel_size=2, stride=2) after the convolution layer, or\n",
    "   - set add stride=2 to the arguments of the convolution layer, make it fit with the kernel size\n",
    "     \n",
    "  Verify that this decreases spatial dimension of the image (`print(l_conv_x.size())` or `print(l_maxpool_x.size())` in your forward pass). Does this increase the performance of the network (you may need to stack multiple layers or increase the number of filters to increase performance) ?"
   ]
  },
  {
   "cell_type": "code",
   "execution_count": 56,
   "metadata": {},
   "outputs": [],
   "source": [
    "def compute_conv_dim(dim_size, kernel_size, padding, stride):\n",
    "    return int((dim_size - kernel_size + 2 * padding) / stride + 1)"
   ]
  },
  {
   "cell_type": "markdown",
   "metadata": {},
   "source": [
    "#### Task 1: \n",
    "Note the performance of the standard feedforward neural network. Add a 2D convolution layer before \n",
    "the dense hidden layer and confirm that it increases the generalization performance of the network \n",
    "(try num_filters=16 and filter_size=5 as a starting point).\n"
   ]
  },
  {
   "cell_type": "code",
   "execution_count": 57,
   "metadata": {},
   "outputs": [],
   "source": [
    "# hyperameters of the model\n",
    "num_classes = 10\n",
    "\n",
    "channels = x_train.shape[1]\n",
    "height = x_train.shape[2]\n",
    "width = x_train.shape[3]\n",
    "\n",
    "num_filters_conv1 = 16\n",
    "kernel_size_conv1 = 5 # [height, width]\n",
    "stride_conv1 = 1 # [stride_height, stride_width]\n",
    "\n",
    "num_l1 = 100\n",
    "padding_conv1 = 0"
   ]
  },
  {
   "cell_type": "code",
   "execution_count": 58,
   "metadata": {},
   "outputs": [],
   "source": [
    "class CNN(nn.Module):    \n",
    "    def __init__(self, channels, num_filters, kernel_size, padding=0, stride=1):        \n",
    "        super(CNN, self).__init__()      \n",
    "        \n",
    "        # conv layer \n",
    "        self.conv_1 = Conv2d(in_channels = channels,\n",
    "                            out_channels = num_filters,\n",
    "                            kernel_size  = kernel_size,\n",
    "                            stride       = stride,\n",
    "                            padding      = padding)        \n",
    "        \n",
    "        # out_dim = (input_dim - filter_dim + 2*padding) / stride + 1\n",
    "        self.conv_out_height = compute_conv_dim(height, kernel_size, padding, stride)\n",
    "        self.conv_out_width  = compute_conv_dim(width, kernel_size, padding, stride)     \n",
    "        \n",
    "        # fully connected layer input dimensionality  \n",
    "        self.l1_in_features = num_filters_conv1 * self.conv_out_height * self.conv_out_width\n",
    "        \n",
    "        # 1) layer \n",
    "        self.l_1 = Linear(in_features  = self.l1_in_features,\n",
    "                          out_features = num_l1, bias=True)\n",
    "        # 2) lAYER \n",
    "        self.l_out = Linear(in_features  = num_l1, \n",
    "                            out_features = num_classes,\n",
    "                            bias=False)  \n",
    "        \n",
    "    def forward(self, x): # x.size() = [batch, channel, height, width]\n",
    "        #x = x.cuda() # you can move the tensor to GPU         \n",
    "        x = relu(self.conv_1(x))        \n",
    "        x = x.view(-1, self.l1_in_features)\n",
    "        \n",
    "        x = relu(self.l_1(x))\n",
    "        x = F.dropout(x)\n",
    "        \n",
    "        return softmax(self.l_out(x), dim=1)    "
   ]
  },
  {
   "cell_type": "code",
   "execution_count": 60,
   "metadata": {},
   "outputs": [
    {
     "name": "stdout",
     "output_type": "stream",
     "text": [
      "CNN(\n",
      "  (conv_1): Conv2d(1, 16, kernel_size=(5, 5), stride=(1, 1))\n",
      "  (l_1): Linear(in_features=9216, out_features=100, bias=True)\n",
      "  (l_out): Linear(in_features=100, out_features=10, bias=False)\n",
      ")\n"
     ]
    }
   ],
   "source": [
    "convnet = CNN(channels=channels, num_filters=16, kernel_size=5)\n",
    "print(convnet)"
   ]
  },
  {
   "cell_type": "code",
   "execution_count": 61,
   "metadata": {},
   "outputs": [
    {
     "name": "stdout",
     "output_type": "stream",
     "text": [
      "Epoch  1 : Train Loss 0.219278 , Train acc 0.541000, Valid acc 0.468000\n",
      "Epoch 11 : Train Loss 0.161086 , Train acc 0.874000, Valid acc 0.766000\n",
      "Epoch 21 : Train Loss 0.154377 , Train acc 0.942000, Valid acc 0.818000\n",
      "Epoch 31 : Train Loss 0.150672 , Train acc 0.966000, Valid acc 0.844000\n",
      "Epoch 41 : Train Loss 0.149712 , Train acc 0.970000, Valid acc 0.848000\n",
      "Epoch 51 : Train Loss 0.149180 , Train acc 0.980000, Valid acc 0.850000\n",
      "Epoch 61 : Train Loss 0.148773 , Train acc 0.982000, Valid acc 0.872000\n",
      "Epoch 71 : Train Loss 0.148274 , Train acc 0.982000, Valid acc 0.876000\n",
      "Epoch 81 : Train Loss 0.147899 , Train acc 0.986000, Valid acc 0.874000\n",
      "Epoch 91 : Train Loss 0.147832 , Train acc 0.985000, Valid acc 0.866000\n",
      "\n",
      "Test set Acc:  0.888000\n"
     ]
    },
    {
     "data": {
      "image/png": "[encoded data removed]",
      "text/plain": [
       "<Figure size 432x288 with 1 Axes>"
      ]
     },
     "metadata": {
      "needs_background": "light"
     },
     "output_type": "display_data"
    }
   ],
   "source": [
    "train(convnet, \n",
    "      optim.Adam(convnet.parameters(), lr=0.001), \n",
    "      num_epochs = 100)"
   ]
  },
  {
   "cell_type": "markdown",
   "metadata": {},
   "source": [
    "Since we are using a kernel size of 5, we can retain the size our the input by using a padding of 2\n"
   ]
  },
  {
   "cell_type": "code",
   "execution_count": 68,
   "metadata": {},
   "outputs": [],
   "source": [
    "convnet2 = CNN(channels=channels, num_filters=16, \n",
    "               kernel_size=5, padding=1)"
   ]
  },
  {
   "cell_type": "code",
   "execution_count": null,
   "metadata": {},
   "outputs": [],
   "source": [
    "print(convnet2)"
   ]
  },
  {
   "cell_type": "code",
   "execution_count": 68,
   "metadata": {},
   "outputs": [
    {
     "name": "stdout",
     "output_type": "stream",
     "text": [
      "Epoch  1 : Train Loss 0.221401 , Train acc 0.403000, Valid acc 0.368000\n",
      "Epoch 11 : Train Loss 0.164724 , Train acc 0.835000, Valid acc 0.758000\n",
      "Epoch 21 : Train Loss 0.154361 , Train acc 0.920000, Valid acc 0.832000\n",
      "Epoch 31 : Train Loss 0.151439 , Train acc 0.957000, Valid acc 0.842000\n",
      "Epoch 41 : Train Loss 0.150947 , Train acc 0.969000, Valid acc 0.834000\n",
      "Epoch 51 : Train Loss 0.149362 , Train acc 0.971000, Valid acc 0.856000\n",
      "Epoch 61 : Train Loss 0.149012 , Train acc 0.974000, Valid acc 0.848000\n",
      "Epoch 71 : Train Loss 0.148634 , Train acc 0.979000, Valid acc 0.860000\n",
      "Epoch 81 : Train Loss 0.148544 , Train acc 0.979000, Valid acc 0.878000\n",
      "Epoch 91 : Train Loss 0.148077 , Train acc 0.982000, Valid acc 0.854000\n",
      "Epoch 101 : Train Loss 0.148065 , Train acc 0.976000, Valid acc 0.868000\n",
      "Epoch 111 : Train Loss 0.147786 , Train acc 0.981000, Valid acc 0.870000\n",
      "Epoch 121 : Train Loss 0.147652 , Train acc 0.990000, Valid acc 0.862000\n",
      "Epoch 131 : Train Loss 0.147460 , Train acc 0.987000, Valid acc 0.866000\n",
      "Epoch 141 : Train Loss 0.147480 , Train acc 0.988000, Valid acc 0.866000\n",
      "Epoch 151 : Train Loss 0.147553 , Train acc 0.985000, Valid acc 0.884000\n",
      "Epoch 161 : Train Loss 0.147467 , Train acc 0.990000, Valid acc 0.878000\n",
      "Epoch 171 : Train Loss 0.147479 , Train acc 0.991000, Valid acc 0.876000\n",
      "Epoch 181 : Train Loss 0.147370 , Train acc 0.988000, Valid acc 0.892000\n",
      "Epoch 191 : Train Loss 0.147202 , Train acc 0.990000, Valid acc 0.892000\n",
      "\n",
      "Test set Acc:  0.902000\n"
     ]
    },
    {
     "data": {
      "image/png": "[encoded data removed]",
      "text/plain": [
       "<Figure size 432x288 with 1 Axes>"
      ]
     },
     "metadata": {
      "needs_background": "light"
     },
     "output_type": "display_data"
    }
   ],
   "source": [
    "train(convnet2, optim.Adam(convnet2.parameters(), lr=0.001), \n",
    "      num_epochs=200)"
   ]
  },
  {
   "cell_type": "markdown",
   "metadata": {},
   "source": [
    "### Can the performance be increased even further by stacking more convolution layers ?"
   ]
  },
  {
   "cell_type": "code",
   "execution_count": 71,
   "metadata": {},
   "outputs": [],
   "source": [
    "class Conv2Net(nn.Module):    \n",
    "    def __init__(self, channels, \n",
    "                 num_filters_1, \n",
    "                 num_filters_2,\n",
    "                 num_filters_3,                 \n",
    "                 kernel_size_1, \n",
    "                 kernel_size_2,\n",
    "                 kernel_size_3,\n",
    "                 \n",
    "                 padding=0, \n",
    "                 stride=1):\n",
    "        \n",
    "        super(Conv2Net, self).__init__()        \n",
    "        \"\"\"\n",
    "        num_classes = 10\n",
    "        channels = x_train.shape[1]\n",
    "        height = x_train.shape[2]\n",
    "        width = x_train.shape[3]\n",
    "        num_filters_conv1 = 16\n",
    "        kernel_size_conv1 = 5 # [height, width]\n",
    "        stride_conv1 = 1 # [stride_height, stride_width]\n",
    "        num_l1 = 100\n",
    "        padding_conv1 = 0\n",
    "        \"\"\"     \n",
    "        \n",
    "        # 1) convolutional layer \n",
    "        self.conv_1 = Conv2d(in_channels=channels,\n",
    "                            out_channels=num_filters_1,\n",
    "                            kernel_size =kernel_size_1,\n",
    "                            stride=stride,\n",
    "                            padding=padding)       \n",
    "        \n",
    "        # Conv layer 1 output dimensionality \n",
    "        self.conv_out_height = compute_conv_dim(height, kernel_size_1, padding, stride)\n",
    "        self.conv_out_width  = compute_conv_dim(width, kernel_size_1, padding, stride)\n",
    "        \n",
    "        # 2) convolutional layer; Note that output from the previous; \n",
    "        #    convolution layer becomes input to the next one\n",
    "        self.conv_2 = Conv2d(in_channels=num_filters_1,\n",
    "                             out_channels=num_filters_2,\n",
    "                             kernel_size=kernel_size_2,\n",
    "                             stride=stride,padding=padding)\n",
    "        \n",
    "        # Conv layer 2 output dimensionality; \n",
    "        # Calculate the heigt and width again, based on the size of the first convolution\n",
    "        # layer\n",
    "        self.conv_out_height = compute_conv_dim(self.conv_out_height, kernel_size_2, padding, stride)\n",
    "        self.conv_out_width  = compute_conv_dim(self.conv_out_width, kernel_size_2, padding, stride)\n",
    "\n",
    "        self.conv_3 = Conv2d(in_channels =num_filters_2,\n",
    "                             out_channels=num_filters_3,\n",
    "                             kernel_size =kernel_size_3,\n",
    "                             stride=stride,padding=padding)\n",
    "        \n",
    "        # Conv layer 2 output dimensionality; \n",
    "        # Calculate the heigt and width again, based on the size of the first convolution\n",
    "        # layer\n",
    "        self.conv_out_height = compute_conv_dim(self.conv_out_height, kernel_size_3, padding, stride)\n",
    "        self.conv_out_width  = compute_conv_dim(self.conv_out_width,  kernel_size_3, padding, stride)\n",
    "\n",
    "        \n",
    "        # define the number of features == number of neurons in the fully connected layer \n",
    "        self.l1_in_features = num_filters_3 * self.conv_out_height * self.conv_out_width\n",
    "        \n",
    "        #) Fully connected hidden - layer \n",
    "        self.l_1 = Linear(in_features=self.l1_in_features, \n",
    "                          out_features=num_l1, # output of the hidden layer becomes input to the next one\n",
    "                          bias=True)\n",
    "        \n",
    "        #) Fully connected output layer \n",
    "        self.l_out = Linear(in_features=num_l1, \n",
    "                            out_features=num_classes, # total number of classes here 10 \n",
    "                            bias=False)\n",
    "       \n",
    "    def forward(self, x): \n",
    "        # x.size() = [batch, channel, height, width]        \n",
    "        x = relu(self.conv_1(x))        \n",
    "        x = relu(self.conv_2(x))        \n",
    "        x = relu(self.conv_3(x))\n",
    "        \n",
    "        # flatteninig step \n",
    "        x = x.view(-1, self.l1_in_features)\n",
    "        x = relu(self.l_1(x))        \n",
    "        return softmax(self.l_out(x), dim=1)"
   ]
  },
  {
   "cell_type": "code",
   "execution_count": 72,
   "metadata": {},
   "outputs": [],
   "source": [
    "import time \n",
    "# define the model \n",
    "conv2net = Conv2Net(channels=channels,\n",
    "                    num_filters_1=16, \n",
    "                    num_filters_2=10, \n",
    "                    num_filters_3 = 5,\n",
    "                    kernel_size_1 = 5, \n",
    "                    kernel_size_2 = 5, \n",
    "                    kernel_size_3 = 3,\n",
    "                    padding=2)"
   ]
  },
  {
   "cell_type": "code",
   "execution_count": 72,
   "metadata": {},
   "outputs": [
    {
     "name": "stdout",
     "output_type": "stream",
     "text": [
      "Epoch  1 : Train Loss 0.229791 , Train acc 0.223000, Valid acc 0.234000\n",
      "Epoch 11 : Train Loss 0.176035 , Train acc 0.701000, Valid acc 0.650000\n",
      "Epoch 21 : Train Loss 0.175255 , Train acc 0.705000, Valid acc 0.652000\n",
      "Epoch 31 : Train Loss 0.174909 , Train acc 0.708000, Valid acc 0.656000\n",
      "Epoch 41 : Train Loss 0.159011 , Train acc 0.879000, Valid acc 0.792000\n",
      "Epoch 51 : Train Loss 0.157443 , Train acc 0.885000, Valid acc 0.798000\n",
      "Epoch 61 : Train Loss 0.157193 , Train acc 0.887000, Valid acc 0.794000\n",
      "Epoch 71 : Train Loss 0.157152 , Train acc 0.887000, Valid acc 0.798000\n",
      "Epoch 81 : Train Loss 0.157157 , Train acc 0.887000, Valid acc 0.800000\n",
      "Epoch 91 : Train Loss 0.157140 , Train acc 0.888000, Valid acc 0.806000\n",
      "\n",
      "Test set Acc:  0.822000\n",
      "training time = 97.8 s\n"
     ]
    },
    {
     "data": {
      "image/png": "[encoded data removed]",
      "text/plain": [
       "<Figure size 432x288 with 1 Axes>"
      ]
     },
     "metadata": {
      "needs_background": "light"
     },
     "output_type": "display_data"
    }
   ],
   "source": [
    "t = time.time()\n",
    "# start the training \n",
    "train(conv2net, optim.Adam(conv2net.parameters(), lr=0.001), num_epochs=100)\n",
    "print(\"training time = %0.1f s\"%(time.time()-t))"
   ]
  },
  {
   "cell_type": "markdown",
   "metadata": {},
   "source": [
    "#### TASK \n",
    "`Maxpooling` is a technique for decreasing the spatial resolution of an image while retaining the important features. Effectively this gives a local translational invariance and reduces the computation by a factor of four. In the classification algorithm which is usually desirable. \n",
    "\n",
    "`Try to either`:\n",
    "\n",
    "- add a maxpool layer (add argument kernel_size=2, stride=2) after the convolution layer, or\n",
    "- set add stride=2 to the arguments of the convolution layer, make it fit with the kernel size\n",
    "\n",
    "Verify that this decreases spatial dimension of the image (print(l_conv_x.size()) or print(l_maxpool_x.size()) in your forward pass). Does this increase the performance of the network (you may need to stack multiple layers or increase the number of filters to increase performance) ?\n",
    "\n",
    "`Answer:`\n",
    "\n",
    "- The training is about 40-50s faster than without the max-pooling."
   ]
  },
  {
   "cell_type": "code",
   "execution_count": 23,
   "metadata": {},
   "outputs": [],
   "source": [
    "from IPython.core.debugger import set_trace"
   ]
  },
  {
   "cell_type": "code",
   "execution_count": null,
   "metadata": {},
   "outputs": [],
   "source": [
    "class Conv2MaxPoolNet(nn.Module):       \n",
    "    def __init__(self, channels, \n",
    "                 num_filters_1, \n",
    "                 num_filters_2, \n",
    "                 kernel_size_1, \n",
    "                 kernel_size_2, \n",
    "                 padding=0, \n",
    "                 stride=1, \n",
    "                 max_pool_size=2, \n",
    "                 max_pool_stride=2):\n",
    "        \n",
    "        super(Conv2MaxPoolNet, self).__init__()\n",
    "        \n",
    "        self.conv_1 = Conv2d(in_channels=channels,\n",
    "                            out_channels=num_filters_1,\n",
    "                            kernel_size=kernel_size_1,\n",
    "                            stride=stride,\n",
    "                            padding=padding)        \n",
    "        \n",
    "        self.conv_2 = Conv2d(in_channels=num_filters_1,\n",
    "                            out_channels=num_filters_2,\n",
    "                            kernel_size=kernel_size_2,\n",
    "                            stride=stride,\n",
    "                            padding=padding)        \n",
    "\n",
    "        # you can define one maxpool and use it to pool any sequence of convolutional layers \n",
    "        self.max_pool = MaxPool2d(kernel_size=max_pool_size, stride=max_pool_stride)\n",
    "        \n",
    "        # NOTE: HEIGHT = HEIGHT/MAXPOOL_SIZE\n",
    "        self.conv_out_height = int(compute_conv_dim(height, kernel_size_1, padding, stride)/max_pool_size)\n",
    "        self.conv_out_width = int(compute_conv_dim(width, kernel_size_1, padding, stride)/max_pool_size)\n",
    "        \n",
    "        #Calculate the heigt and width again, based on the size of the first convolution layer\n",
    "        self.conv_out_height = int(compute_conv_dim(self.conv_out_height, kernel_size_2, padding, stride)/max_pool_size)\n",
    "        self.conv_out_width = int(compute_conv_dim(self.conv_out_width, kernel_size_2, padding, stride)/max_pool_size)    \n",
    "        \n",
    "        self.l1_in_features = num_filters_2 * self.conv_out_height * self.conv_out_width\n",
    "        \n",
    "        # fully connected 1st hidden layer \n",
    "        self.l_1 = Linear(in_features=self.l1_in_features,out_features=num_l1,bias=True)\n",
    "        \n",
    "        # fully connected output layer \n",
    "        self.l_out = Linear(in_features=num_l1, out_features=num_classes,bias=False)    \n",
    "        self.n=0\n",
    "        self.dropout = nn.Dropout2d(p=0.2)\n",
    "        \n",
    "    def forward(self, x): # x.size() = [batch, channel, height, width]\n",
    "        #x = x.cuda()        \n",
    "        if self.n < 1 : print(x.size())\n",
    "        x = relu(self.max_pool(self.conv_1(x)))        \n",
    "        \"\"\"\n",
    "        Conv2d, BatchNorm2d, MaxPool2d, Dropout2d\n",
    "        relu, elu, relu6, sigmoid, tanh, softmax\n",
    "        \"\"\"        \n",
    "        # set_trace()        \n",
    "        \n",
    "        if self.n < 1 : print(x.size())\n",
    "        x = relu(self.max_pool(self.conv_2(x)))          \n",
    "\n",
    "        if self.n < 1 : print(x.size())\n",
    "        x = x.view(-1, self.l1_in_features)        \n",
    "        #x = self.dropout(relu(self.l_1(x)))\n",
    "\n",
    "        if self.n < 1 : print(x.size())\n",
    "        x = relu(self.l_1(x))                \n",
    "        \n",
    "        self.n += 1\n",
    "        if self.n < 1 : print(x.size())            \n",
    "        x = softmax(self.l_out(x), dim =1)        \n",
    "        if self.n < 1 : print(x.size())\n",
    "            \n",
    "        return x"
   ]
  },
  {
   "cell_type": "code",
   "execution_count": null,
   "metadata": {},
   "outputs": [],
   "source": [
    "import time \n",
    "conv2maxpoolnet = Conv2MaxPoolNet(channels=channels, \n",
    "                                  num_filters_1=16, \n",
    "                                  num_filters_2=10, \n",
    "                                  kernel_size_1=5, \n",
    "                                  kernel_size_2=5, \n",
    "                                  padding=2)#.cuda()\n",
    "\n",
    "t = time.time()\n",
    "train(conv2maxpoolnet, \n",
    "      optim.Adam(conv2maxpoolnet.parameters(), lr=0.001), \n",
    "      num_epochs=100)\n",
    "\n",
    "print(\"training time = %0.1f s\"%(time.time()-t))"
   ]
  },
  {
   "cell_type": "markdown",
   "metadata": {},
   "source": [
    "## Visualization of filters\n",
    "Convolution filters can be interpreted as spatial feature detectors picking up different image features such as edges, corners etc. Below we provide code for visualization of the filters. The best results are obtained with fairly large filters of size 9 and either 16 or 36 filters. "
   ]
  },
  {
   "cell_type": "code",
   "execution_count": 257,
   "metadata": {},
   "outputs": [
    {
     "name": "stdout",
     "output_type": "stream",
     "text": [
      "dict_keys(['conv_1.weight', 'conv_1.bias', 'conv_2.weight', 'conv_2.bias', 'l_1.weight', 'l_1.bias', 'l_out.weight'])\n"
     ]
    }
   ],
   "source": [
    "# to start with we print the names of the weights in our network\n",
    "names_and_vars = {x[0]: x[1] for x in conv2maxpoolnet.named_parameters()}\n",
    "print(names_and_vars.keys())\n"
   ]
  },
  {
   "cell_type": "code",
   "execution_count": 258,
   "metadata": {},
   "outputs": [
    {
     "name": "stdout",
     "output_type": "stream",
     "text": [
      "Parameter containing:\n",
      "tensor([[ 0.0490, -0.0487, -0.0502,  ...,  0.0328,  0.0808,  0.0165],\n",
      "        [ 0.0010, -0.0193, -0.0007,  ..., -0.0366, -0.0263, -0.0039],\n",
      "        [-0.0166, -0.0537,  0.0201,  ..., -0.0067,  0.1031,  0.1201],\n",
      "        ...,\n",
      "        [ 0.0144,  0.0407, -0.0287,  ...,  0.0399, -0.0692, -0.0014],\n",
      "        [-0.0023, -0.0455, -0.0147,  ...,  0.0330,  0.0265, -0.0032],\n",
      "        [-0.0188,  0.0166,  0.0509,  ...,  0.0652,  0.0029,  0.0586]],\n",
      "       requires_grad=True)\n",
      "torch.Size([100, 490])\n"
     ]
    }
   ],
   "source": [
    "print(names_and_vars['l_1.weight'])\n",
    "print(names_and_vars['l_1.weight'].shape)"
   ]
  },
  {
   "cell_type": "code",
   "execution_count": 262,
   "metadata": {},
   "outputs": [
    {
     "name": "stdout",
     "output_type": "stream",
     "text": [
      "(16, 1, 5, 5) i.e. the shape is (channels_out, channels_in, filter_height, filter_width)\n",
      "learned filter values\n"
     ]
    },
    {
     "data": {
      "image/png": "[encoded data removed]",
      "text/plain": [
       "<Figure size 432x288 with 16 Axes>"
      ]
     },
     "metadata": {},
     "output_type": "display_data"
    },
    {
     "data": {
      "image/png": "[encoded data removed]",
      "text/plain": [
       "<Figure size 432x288 with 1 Axes>"
      ]
     },
     "metadata": {},
     "output_type": "display_data"
    },
    {
     "name": "stdout",
     "output_type": "stream",
     "text": [
      "Response from input image convolved with the filters\n"
     ]
    },
    {
     "data": {
      "image/png": "[encoded data removed]",
      "text/plain": [
       "<Figure size 648x648 with 16 Axes>"
      ]
     },
     "metadata": {},
     "output_type": "display_data"
    }
   ],
   "source": [
    "### ERROR - If you get a key error, \n",
    "#   then you need to define l_conv1 in your model!\n",
    "if not 'conv_1.weight' in names_and_vars:\n",
    "    print(\"You need to go back and define a convolutional layer in the network.\")\n",
    "else:\n",
    "    \n",
    "    # get the filter values from the first conv layer\n",
    "    np_W = names_and_vars['conv_1.weight'].data.numpy()     \n",
    "    print(np_W.shape, \"i.e. the shape is (channels_out, channels_in, filter_height, filter_width)\")    \n",
    "    channels_out, channels_in, filter_size, _ = np_W.shape\n",
    "    \n",
    "    n = int(channels_out**0.5)\n",
    "\n",
    "    # reshaping the last dimension to be n by n\n",
    "    np_W_res = np_W.reshape(filter_size, filter_size, channels_in, n, n)\n",
    "    fig, ax = plt.subplots(n,n)\n",
    "    \n",
    "    print(\"learned filter values\")\n",
    "    for i in range(n):\n",
    "        for j in range(n):\n",
    "            ax[i,j].imshow(np_W_res[:,:,0,i,j], cmap='gray',interpolation='none')\n",
    "            ax[i,j].xaxis.set_major_formatter(plt.NullFormatter())\n",
    "            ax[i,j].yaxis.set_major_formatter(plt.NullFormatter())\n",
    "\n",
    "    idx = 1\n",
    "    plt.figure()\n",
    "    plt.imshow(x_train[idx,0],cmap='gray',interpolation='none')\n",
    "    plt.title('Inut Image')\n",
    "    plt.show()\n",
    "\n",
    "    #visalize the filters convolved with an input image\n",
    "    from scipy.signal import convolve2d\n",
    "    np_W_res = np_W.reshape(filter_size, filter_size, channels_in, n, n)\n",
    "    fig, ax = plt.subplots(n,n,figsize=(9,9))\n",
    "    print(\"Response from input image convolved with the filters\")\n",
    "    \n",
    "    for i in range(n):\n",
    "        for j in range(n):\n",
    "            ax[i,j].imshow(convolve2d(x_train[1,0],np_W_res[:,:,0,i,j], mode='same'),\n",
    "                           cmap='gray',interpolation='none')\n",
    "            ax[i,j].xaxis.set_major_formatter(plt.NullFormatter())\n",
    "            ax[i,j].yaxis.set_major_formatter(plt.NullFormatter())"
   ]
  },
  {
   "cell_type": "markdown",
   "metadata": {},
   "source": [
    "### Assignment 3\n",
    "\n",
    "The visualized filters will likely look most like noise due to the small amount of training data.\n",
    "\n",
    "1. Try to use 10000 traning examples instead and visualise the filters again\n",
    " \n",
    "2. Dropout is a very usefull technique for preventing overfitting. Try to add a DropoutLayer after the convolution layer and hidden layer. This should increase both performance and the \"visual appeal\" of the filters\n",
    "   - remember to use `net.train()` and `net.eval()` properly.\n",
    " \n",
    "3. Batch normalization is a recent innovation for improving generalization performance. Try to insert batch normalization layers into the network to improve performance. \n",
    "   - remember to use `net.train()` and `net.eval()` properly."
   ]
  },
  {
   "cell_type": "code",
   "execution_count": 126,
   "metadata": {},
   "outputs": [
    {
     "name": "stdout",
     "output_type": "stream",
     "text": [
      "Information on dataset\n",
      "x_train (50000, 1, 28, 28)\n",
      "targets_train (50000,)\n",
      "x_valid (10000, 1, 28, 28)\n",
      "targets_valid (10000,)\n",
      "x_test (10000, 1, 28, 28)\n",
      "targets_test (10000,)\n"
     ]
    }
   ],
   "source": [
    "x_train = data['X_train'].astype('float32')\n",
    "x_train = x_train.reshape((-1, nchannels, rows, cols))\n",
    "targets_train = data['y_train'].astype('int32')\n",
    "\n",
    "x_valid = data['X_valid'].astype('float32')\n",
    "x_valid = x_valid.reshape((-1, nchannels, rows, cols))\n",
    "targets_valid = data['y_valid'].astype('int32')\n",
    "\n",
    "x_test = data['X_test'].astype('float32')\n",
    "x_test = x_test.reshape((-1, nchannels, rows, cols))\n",
    "targets_test = data['y_test'].astype('int32')\n",
    "\n",
    "print(\"Information on dataset\")\n",
    "print(\"x_train\", x_train.shape)\n",
    "print(\"targets_train\", targets_train.shape)\n",
    "print(\"x_valid\", x_valid.shape)\n",
    "print(\"targets_valid\", targets_valid.shape)\n",
    "print(\"x_test\", x_test.shape)\n",
    "print(\"targets_test\", targets_test.shape)"
   ]
  },
  {
   "cell_type": "code",
   "execution_count": null,
   "metadata": {},
   "outputs": [],
   "source": [
    "from torch.nn import Linear, Conv2d, BatchNorm2d, MaxPool2d, Dropout2d\n",
    "from torch.nn.functional import relu, elu, relu6, sigmoid, tanh, softmax"
   ]
  },
  {
   "cell_type": "code",
   "execution_count": 24,
   "metadata": {},
   "outputs": [
    {
     "data": {
      "text/plain": [
       "\u001b[1;31mInit signature:\u001b[0m \u001b[0mDropout2d\u001b[0m\u001b[1;33m(\u001b[0m\u001b[0mp\u001b[0m\u001b[1;33m=\u001b[0m\u001b[1;36m0.5\u001b[0m\u001b[1;33m,\u001b[0m \u001b[0minplace\u001b[0m\u001b[1;33m=\u001b[0m\u001b[1;32mFalse\u001b[0m\u001b[1;33m)\u001b[0m\u001b[1;33m\u001b[0m\u001b[0m\n",
       "\u001b[1;31mDocstring:\u001b[0m     \n",
       "Randomly zeroes whole channels of the input tensor.\n",
       "The channels to zero-out are randomized on every forward call.\n",
       "\n",
       "Usually the input comes from :class:`nn.Conv2d` modules.\n",
       "\n",
       "As described in the paper\n",
       "`Efficient Object Localization Using Convolutional Networks`_ ,\n",
       "if adjacent pixels within feature maps are strongly correlated\n",
       "(as is normally the case in early convolution layers) then i.i.d. dropout\n",
       "will not regularize the activations and will otherwise just result\n",
       "in an effective learning rate decrease.\n",
       "\n",
       "In this case, :func:`nn.Dropout2d` will help promote independence between\n",
       "feature maps and should be used instead.\n",
       "\n",
       "Args:\n",
       "    p (float, optional): probability of an element to be zero-ed.\n",
       "    inplace (bool, optional): If set to ``True``, will do this operation\n",
       "        in-place\n",
       "\n",
       "Shape:\n",
       "    - Input: :math:`(N, C, H, W)`\n",
       "    - Output: :math:`(N, C, H, W)` (same shape as input)\n",
       "\n",
       "Examples::\n",
       "\n",
       "    >>> m = nn.Dropout2d(p=0.2)\n",
       "    >>> input = torch.randn(20, 16, 32, 32)\n",
       "    >>> output = m(input)\n",
       "\n",
       ".. _Efficient Object Localization Using Convolutional Networks:\n",
       "   http://arxiv.org/abs/1411.4280\n",
       "\u001b[1;31mFile:\u001b[0m           c:\\users\\berdakh\\anaconda3\\envs\\mne\\lib\\site-packages\\torch\\nn\\modules\\dropout.py\n",
       "\u001b[1;31mType:\u001b[0m           type\n"
      ]
     },
     "metadata": {},
     "output_type": "display_data"
    }
   ],
   "source": [
    "Dropout2d?"
   ]
  },
  {
   "cell_type": "code",
   "execution_count": 133,
   "metadata": {},
   "outputs": [],
   "source": [
    "class Conv2MaxPoolNet(nn.Module):\n",
    "    def __init__(self, channels, num_filters_1, num_filters_2, kernel_size_1, kernel_size_2, padding=0, stride=1\n",
    "                 , max_pool_size=2, max_pool_stride=2):\n",
    "        super(Conv2MaxPoolNet, self).__init__()\n",
    "        \n",
    "        self.conv_1 = Conv2d(in_channels=channels, out_channels=num_filters_1, kernel_size=kernel_size_1, stride=stride,\n",
    "                            padding=padding)\n",
    "                \n",
    "        self.conv_2 = Conv2d(in_channels=num_filters_1, out_channels=num_filters_2, kernel_size=kernel_size_2, stride=stride,\n",
    "                            padding=padding)\n",
    "        \n",
    "        self.max_pool = MaxPool2d(kernel_size=max_pool_size, stride=max_pool_stride)\n",
    "        \n",
    "        self.conv_out_height = int(compute_conv_dim(height, kernel_size_1, padding, stride)/max_pool_size)\n",
    "        self.conv_out_width = int(compute_conv_dim(width, kernel_size_1, padding, stride)/max_pool_size)\n",
    "        \n",
    "        #Calculate the heigt and width again, based on the size of the first convolution layer\n",
    "        self.conv_out_height = int(compute_conv_dim(self.conv_out_height, kernel_size_2, padding, stride)/max_pool_size)\n",
    "        self.conv_out_width = int(compute_conv_dim(self.conv_out_width, kernel_size_2, padding, stride)/max_pool_size)\n",
    "        \n",
    "        self.l1_in_features = num_filters_2 * self.conv_out_height * self.conv_out_width\n",
    "        \n",
    "        self.l_1 = Linear(in_features=self.l1_in_features, out_features=num_l1, bias=True)\n",
    "        self.l_out = Linear(in_features=num_l1, out_features=num_classes, bias=False)\n",
    "    \n",
    "        self.dropout = Dropout2d(p=0.3)\n",
    "        self.n=0\n",
    "        \n",
    "    def forward(self, x): # x.size() = [batch, channel, height, width]\n",
    "        #x = x.cuda()\n",
    "        \n",
    "        if self.n<1 : print(x.size())\n",
    "        x = relu(self.max_pool(self.conv_1(x)))\n",
    "        \n",
    "        if self.n<1 : print(x.size())\n",
    "        x = relu(self.max_pool(self.conv_2(x)))\n",
    "        \n",
    "        if self.n<1 : print(x.size())\n",
    "        x = x.view(-1, self.l1_in_features)\n",
    "        \n",
    "        x = self.dropout(relu(self.l_1(x)))\n",
    "\n",
    "        self.n += 1\n",
    "        return softmax(self.l_out(x), dim=1)"
   ]
  },
  {
   "cell_type": "code",
   "execution_count": 135,
   "metadata": {},
   "outputs": [
    {
     "name": "stdout",
     "output_type": "stream",
     "text": [
      "torch.Size([100, 1, 28, 28])\n",
      "torch.Size([100, 16, 14, 14])\n",
      "torch.Size([100, 10, 7, 7])\n",
      "Epoch  1 : Train Loss 0.229669 , Train acc 0.349000, Valid acc 0.336000\n",
      "Epoch 11 : Train Loss 0.167327 , Train acc 0.830000, Valid acc 0.768000\n",
      "Epoch 21 : Train Loss 0.156007 , Train acc 0.944000, Valid acc 0.870000\n",
      "Epoch 31 : Train Loss 0.151889 , Train acc 0.960000, Valid acc 0.910000\n",
      "Epoch 41 : Train Loss 0.150329 , Train acc 0.970000, Valid acc 0.914000\n",
      "Epoch 51 : Train Loss 0.148649 , Train acc 0.982000, Valid acc 0.928000\n",
      "Epoch 61 : Train Loss 0.148576 , Train acc 0.986000, Valid acc 0.914000\n",
      "Epoch 71 : Train Loss 0.147848 , Train acc 0.988000, Valid acc 0.928000\n",
      "Epoch 81 : Train Loss 0.147378 , Train acc 0.990000, Valid acc 0.926000\n",
      "Epoch 91 : Train Loss 0.147420 , Train acc 0.990000, Valid acc 0.932000\n",
      "\n",
      "Test set Acc:  0.943900\n",
      "training time = 216.4 s\n"
     ]
    },
    {
     "data": {
      "image/png": "[encoded data removed]",
      "text/plain": [
       "<Figure size 432x288 with 1 Axes>"
      ]
     },
     "metadata": {},
     "output_type": "display_data"
    }
   ],
   "source": [
    "conv2maxpoolnet = Conv2MaxPoolNet(channels=channels, num_filters_1=16, num_filters_2=10, \n",
    "                                  kernel_size_1=5, kernel_size_2=5, padding=2) \n",
    "\n",
    "t = time.time()\n",
    "train(conv2maxpoolnet, optim.Adam(conv2maxpoolnet.parameters(), lr=0.001), num_epochs=100)\n",
    "\n",
    "print(\"training time = %0.1f s\"%(time.time()-t))"
   ]
  },
  {
   "cell_type": "markdown",
   "metadata": {},
   "source": [
    "Again, if you didn't already, you really should [watch this video](https://www.youtube.com/watch?v=AgkfIQ4IGaM)."
   ]
  }
 ],
 "metadata": {
  "kernelspec": {
   "display_name": "Python 3.7.7 64-bit ('mne': conda)",
   "language": "python",
   "name": "python37764bitmnecondacf6f4cb1b5c445cca0cf0998f0c571e1"
  },
  "language_info": {
   "codemirror_mode": {
    "name": "ipython",
    "version": 3
   },
   "file_extension": ".py",
   "mimetype": "text/x-python",
   "name": "python",
   "nbconvert_exporter": "python",
   "pygments_lexer": "ipython3",
   "version": "3.7.7"
  }
 },
 "nbformat": 4,
 "nbformat_minor": 4
}
